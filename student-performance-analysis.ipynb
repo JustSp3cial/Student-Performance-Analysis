{
 "cells": [
  {
   "cell_type": "markdown",
   "id": "4118f8a0",
   "metadata": {},
   "source": [
    "# Analyzing exam scores\n",
    "## 📖 Background\n",
    "In a large school, the school makes every student take year-end math, reading, and writing exams. The principal of the school wants to know if test preparation courses are helpful. She also wants to explore the effect of parental education level on test scores. "
   ]
  },
  {
   "cell_type": "markdown",
   "id": "339a8642-e4e8-4fff-b968-f722a6485815",
   "metadata": {},
   "source": [
    "## 💾 The data\n",
    "\n",
    "#### The dataset has the following fields ([source](http://roycekimmons.com/tools/generated_data/exams)):\n",
    "- \"gender\" - male / female\n",
    "- \"race/ethnicity\" - one of 5 combinations of race/ethnicity\n",
    "- \"parent_education_level\" -  highest education level of either parent\n",
    "- \"lunch\" - whether the student receives free/reduced or standard lunch\n",
    "- \"test_prep_course\" - whether the student took the test preparation course\n",
    "- \"math\" -  exam score in math \n",
    "- \"reading\" -  exam score in reading \n",
    "- \"writing\" -  exam score in writing "
   ]
  },
  {
   "cell_type": "markdown",
   "id": "4873ac37-c72b-4c28-a2e1-361eed4e515f",
   "metadata": {},
   "source": [
    "## 💪 Challenge\n",
    "Create a report to answer the principal's questions. Include:\n",
    "\n",
    "1. What are the average reading scores for students with/without the test preparation course?\n",
    "2. What are the average scores for the different parental education levels?\n",
    "3. Create plots to visualize findings for questions 1 and 2.\n",
    "4. [Optional] Look at the effects within subgroups. Compare the average scores for students with/without the test preparation course for different parental education levels (e.g., faceted plots).\n",
    "5. [Optional 2] The principal wants to know if kids who perform well on one subject also score well on the others. Look at the correlations between scores. \n",
    "6. Summarize your findings."
   ]
  },
  {
   "cell_type": "code",
   "execution_count": 1,
   "id": "70a3b9bd",
   "metadata": {},
   "outputs": [
    {
     "data": {
      "text/html": [
       "<div>\n",
       "<style scoped>\n",
       "    .dataframe tbody tr th:only-of-type {\n",
       "        vertical-align: middle;\n",
       "    }\n",
       "\n",
       "    .dataframe tbody tr th {\n",
       "        vertical-align: top;\n",
       "    }\n",
       "\n",
       "    .dataframe thead th {\n",
       "        text-align: right;\n",
       "    }\n",
       "</style>\n",
       "<table border=\"1\" class=\"dataframe\">\n",
       "  <thead>\n",
       "    <tr style=\"text-align: right;\">\n",
       "      <th></th>\n",
       "      <th>gender</th>\n",
       "      <th>race/ethnicity</th>\n",
       "      <th>parent_education_level</th>\n",
       "      <th>lunch</th>\n",
       "      <th>test_prep_course</th>\n",
       "      <th>math score</th>\n",
       "      <th>reading score</th>\n",
       "      <th>writing score</th>\n",
       "    </tr>\n",
       "  </thead>\n",
       "  <tbody>\n",
       "    <tr>\n",
       "      <th>0</th>\n",
       "      <td>female</td>\n",
       "      <td>group C</td>\n",
       "      <td>some college</td>\n",
       "      <td>standard</td>\n",
       "      <td>none</td>\n",
       "      <td>68</td>\n",
       "      <td>71</td>\n",
       "      <td>71</td>\n",
       "    </tr>\n",
       "    <tr>\n",
       "      <th>1</th>\n",
       "      <td>male</td>\n",
       "      <td>group B</td>\n",
       "      <td>bachelor's degree</td>\n",
       "      <td>standard</td>\n",
       "      <td>none</td>\n",
       "      <td>67</td>\n",
       "      <td>68</td>\n",
       "      <td>59</td>\n",
       "    </tr>\n",
       "    <tr>\n",
       "      <th>2</th>\n",
       "      <td>female</td>\n",
       "      <td>group C</td>\n",
       "      <td>bachelor's degree</td>\n",
       "      <td>standard</td>\n",
       "      <td>none</td>\n",
       "      <td>52</td>\n",
       "      <td>60</td>\n",
       "      <td>64</td>\n",
       "    </tr>\n",
       "    <tr>\n",
       "      <th>3</th>\n",
       "      <td>male</td>\n",
       "      <td>group B</td>\n",
       "      <td>some college</td>\n",
       "      <td>standard</td>\n",
       "      <td>none</td>\n",
       "      <td>84</td>\n",
       "      <td>78</td>\n",
       "      <td>71</td>\n",
       "    </tr>\n",
       "    <tr>\n",
       "      <th>4</th>\n",
       "      <td>male</td>\n",
       "      <td>group C</td>\n",
       "      <td>high school</td>\n",
       "      <td>standard</td>\n",
       "      <td>none</td>\n",
       "      <td>69</td>\n",
       "      <td>61</td>\n",
       "      <td>61</td>\n",
       "    </tr>\n",
       "  </tbody>\n",
       "</table>\n",
       "</div>"
      ],
      "text/plain": [
       "   gender race/ethnicity parent_education_level     lunch test_prep_course  \\\n",
       "0  female        group C           some college  standard             none   \n",
       "1    male        group B      bachelor's degree  standard             none   \n",
       "2  female        group C      bachelor's degree  standard             none   \n",
       "3    male        group B           some college  standard             none   \n",
       "4    male        group C            high school  standard             none   \n",
       "\n",
       "   math score  reading score  writing score  \n",
       "0          68             71             71  \n",
       "1          67             68             59  \n",
       "2          52             60             64  \n",
       "3          84             78             71  \n",
       "4          69             61             61  "
      ]
     },
     "execution_count": 1,
     "metadata": {},
     "output_type": "execute_result"
    }
   ],
   "source": [
    "# Importing the required libraries\n",
    "import pandas as pd\n",
    "import matplotlib.pyplot as plt\n",
    "import seaborn as sns\n",
    "\n",
    "# Reading in the data\n",
    "df = pd.read_csv('exams.csv')\n",
    "df.head()"
   ]
  },
  {
   "cell_type": "code",
   "execution_count": 2,
   "id": "eb4e7311-c026-40d6-89a2-37e935d25db8",
   "metadata": {},
   "outputs": [
    {
     "data": {
      "text/html": [
       "<div>\n",
       "<style scoped>\n",
       "    .dataframe tbody tr th:only-of-type {\n",
       "        vertical-align: middle;\n",
       "    }\n",
       "\n",
       "    .dataframe tbody tr th {\n",
       "        vertical-align: top;\n",
       "    }\n",
       "\n",
       "    .dataframe thead th {\n",
       "        text-align: right;\n",
       "    }\n",
       "</style>\n",
       "<table border=\"1\" class=\"dataframe\">\n",
       "  <thead>\n",
       "    <tr style=\"text-align: right;\">\n",
       "      <th></th>\n",
       "      <th>math score</th>\n",
       "      <th>reading score</th>\n",
       "      <th>writing score</th>\n",
       "    </tr>\n",
       "  </thead>\n",
       "  <tbody>\n",
       "    <tr>\n",
       "      <th>count</th>\n",
       "      <td>1000.000000</td>\n",
       "      <td>1000.000000</td>\n",
       "      <td>1000.000000</td>\n",
       "    </tr>\n",
       "    <tr>\n",
       "      <th>mean</th>\n",
       "      <td>66.944000</td>\n",
       "      <td>69.958000</td>\n",
       "      <td>68.486000</td>\n",
       "    </tr>\n",
       "    <tr>\n",
       "      <th>std</th>\n",
       "      <td>14.868017</td>\n",
       "      <td>14.630047</td>\n",
       "      <td>15.189487</td>\n",
       "    </tr>\n",
       "    <tr>\n",
       "      <th>min</th>\n",
       "      <td>27.000000</td>\n",
       "      <td>26.000000</td>\n",
       "      <td>20.000000</td>\n",
       "    </tr>\n",
       "    <tr>\n",
       "      <th>25%</th>\n",
       "      <td>57.000000</td>\n",
       "      <td>60.000000</td>\n",
       "      <td>58.000000</td>\n",
       "    </tr>\n",
       "    <tr>\n",
       "      <th>50%</th>\n",
       "      <td>67.000000</td>\n",
       "      <td>70.000000</td>\n",
       "      <td>69.000000</td>\n",
       "    </tr>\n",
       "    <tr>\n",
       "      <th>75%</th>\n",
       "      <td>77.000000</td>\n",
       "      <td>81.000000</td>\n",
       "      <td>79.000000</td>\n",
       "    </tr>\n",
       "    <tr>\n",
       "      <th>max</th>\n",
       "      <td>100.000000</td>\n",
       "      <td>100.000000</td>\n",
       "      <td>100.000000</td>\n",
       "    </tr>\n",
       "  </tbody>\n",
       "</table>\n",
       "</div>"
      ],
      "text/plain": [
       "        math score  reading score  writing score\n",
       "count  1000.000000    1000.000000    1000.000000\n",
       "mean     66.944000      69.958000      68.486000\n",
       "std      14.868017      14.630047      15.189487\n",
       "min      27.000000      26.000000      20.000000\n",
       "25%      57.000000      60.000000      58.000000\n",
       "50%      67.000000      70.000000      69.000000\n",
       "75%      77.000000      81.000000      79.000000\n",
       "max     100.000000     100.000000     100.000000"
      ]
     },
     "execution_count": 2,
     "metadata": {},
     "output_type": "execute_result"
    }
   ],
   "source": [
    "df.describe()"
   ]
  },
  {
   "cell_type": "markdown",
   "id": "64828a75-14b7-4643-9a8d-ed7876d0bbcb",
   "metadata": {},
   "source": [
    "A column  titled **average_score** is added to the dataset. This will be used in ralation to other categorical variables in the dataset."
   ]
  },
  {
   "cell_type": "code",
   "execution_count": 3,
   "id": "2d7f7dfc-935b-42cc-a030-641f5ac3e84f",
   "metadata": {},
   "outputs": [
    {
     "data": {
      "text/html": [
       "<div>\n",
       "<style scoped>\n",
       "    .dataframe tbody tr th:only-of-type {\n",
       "        vertical-align: middle;\n",
       "    }\n",
       "\n",
       "    .dataframe tbody tr th {\n",
       "        vertical-align: top;\n",
       "    }\n",
       "\n",
       "    .dataframe thead th {\n",
       "        text-align: right;\n",
       "    }\n",
       "</style>\n",
       "<table border=\"1\" class=\"dataframe\">\n",
       "  <thead>\n",
       "    <tr style=\"text-align: right;\">\n",
       "      <th></th>\n",
       "      <th>gender</th>\n",
       "      <th>race/ethnicity</th>\n",
       "      <th>parent_education_level</th>\n",
       "      <th>lunch</th>\n",
       "      <th>test_prep_course</th>\n",
       "      <th>math score</th>\n",
       "      <th>reading score</th>\n",
       "      <th>writing score</th>\n",
       "      <th>average_score</th>\n",
       "    </tr>\n",
       "  </thead>\n",
       "  <tbody>\n",
       "    <tr>\n",
       "      <th>0</th>\n",
       "      <td>female</td>\n",
       "      <td>group C</td>\n",
       "      <td>some college</td>\n",
       "      <td>standard</td>\n",
       "      <td>none</td>\n",
       "      <td>68</td>\n",
       "      <td>71</td>\n",
       "      <td>71</td>\n",
       "      <td>70.000000</td>\n",
       "    </tr>\n",
       "    <tr>\n",
       "      <th>1</th>\n",
       "      <td>male</td>\n",
       "      <td>group B</td>\n",
       "      <td>bachelor's degree</td>\n",
       "      <td>standard</td>\n",
       "      <td>none</td>\n",
       "      <td>67</td>\n",
       "      <td>68</td>\n",
       "      <td>59</td>\n",
       "      <td>64.666667</td>\n",
       "    </tr>\n",
       "    <tr>\n",
       "      <th>2</th>\n",
       "      <td>female</td>\n",
       "      <td>group C</td>\n",
       "      <td>bachelor's degree</td>\n",
       "      <td>standard</td>\n",
       "      <td>none</td>\n",
       "      <td>52</td>\n",
       "      <td>60</td>\n",
       "      <td>64</td>\n",
       "      <td>58.666667</td>\n",
       "    </tr>\n",
       "    <tr>\n",
       "      <th>3</th>\n",
       "      <td>male</td>\n",
       "      <td>group B</td>\n",
       "      <td>some college</td>\n",
       "      <td>standard</td>\n",
       "      <td>none</td>\n",
       "      <td>84</td>\n",
       "      <td>78</td>\n",
       "      <td>71</td>\n",
       "      <td>77.666667</td>\n",
       "    </tr>\n",
       "    <tr>\n",
       "      <th>4</th>\n",
       "      <td>male</td>\n",
       "      <td>group C</td>\n",
       "      <td>high school</td>\n",
       "      <td>standard</td>\n",
       "      <td>none</td>\n",
       "      <td>69</td>\n",
       "      <td>61</td>\n",
       "      <td>61</td>\n",
       "      <td>63.666667</td>\n",
       "    </tr>\n",
       "    <tr>\n",
       "      <th>...</th>\n",
       "      <td>...</td>\n",
       "      <td>...</td>\n",
       "      <td>...</td>\n",
       "      <td>...</td>\n",
       "      <td>...</td>\n",
       "      <td>...</td>\n",
       "      <td>...</td>\n",
       "      <td>...</td>\n",
       "      <td>...</td>\n",
       "    </tr>\n",
       "    <tr>\n",
       "      <th>995</th>\n",
       "      <td>male</td>\n",
       "      <td>group D</td>\n",
       "      <td>some high school</td>\n",
       "      <td>free/reduced</td>\n",
       "      <td>none</td>\n",
       "      <td>65</td>\n",
       "      <td>71</td>\n",
       "      <td>67</td>\n",
       "      <td>67.666667</td>\n",
       "    </tr>\n",
       "    <tr>\n",
       "      <th>996</th>\n",
       "      <td>female</td>\n",
       "      <td>group D</td>\n",
       "      <td>bachelor's degree</td>\n",
       "      <td>standard</td>\n",
       "      <td>none</td>\n",
       "      <td>66</td>\n",
       "      <td>61</td>\n",
       "      <td>70</td>\n",
       "      <td>65.666667</td>\n",
       "    </tr>\n",
       "    <tr>\n",
       "      <th>997</th>\n",
       "      <td>female</td>\n",
       "      <td>group B</td>\n",
       "      <td>bachelor's degree</td>\n",
       "      <td>standard</td>\n",
       "      <td>completed</td>\n",
       "      <td>74</td>\n",
       "      <td>88</td>\n",
       "      <td>87</td>\n",
       "      <td>83.000000</td>\n",
       "    </tr>\n",
       "    <tr>\n",
       "      <th>998</th>\n",
       "      <td>female</td>\n",
       "      <td>group C</td>\n",
       "      <td>bachelor's degree</td>\n",
       "      <td>standard</td>\n",
       "      <td>completed</td>\n",
       "      <td>67</td>\n",
       "      <td>76</td>\n",
       "      <td>83</td>\n",
       "      <td>75.333333</td>\n",
       "    </tr>\n",
       "    <tr>\n",
       "      <th>999</th>\n",
       "      <td>male</td>\n",
       "      <td>group C</td>\n",
       "      <td>some high school</td>\n",
       "      <td>free/reduced</td>\n",
       "      <td>none</td>\n",
       "      <td>42</td>\n",
       "      <td>50</td>\n",
       "      <td>41</td>\n",
       "      <td>44.333333</td>\n",
       "    </tr>\n",
       "  </tbody>\n",
       "</table>\n",
       "<p>1000 rows × 9 columns</p>\n",
       "</div>"
      ],
      "text/plain": [
       "     gender race/ethnicity parent_education_level         lunch  \\\n",
       "0    female        group C           some college      standard   \n",
       "1      male        group B      bachelor's degree      standard   \n",
       "2    female        group C      bachelor's degree      standard   \n",
       "3      male        group B           some college      standard   \n",
       "4      male        group C            high school      standard   \n",
       "..      ...            ...                    ...           ...   \n",
       "995    male        group D       some high school  free/reduced   \n",
       "996  female        group D      bachelor's degree      standard   \n",
       "997  female        group B      bachelor's degree      standard   \n",
       "998  female        group C      bachelor's degree      standard   \n",
       "999    male        group C       some high school  free/reduced   \n",
       "\n",
       "    test_prep_course  math score  reading score  writing score  average_score  \n",
       "0               none          68             71             71      70.000000  \n",
       "1               none          67             68             59      64.666667  \n",
       "2               none          52             60             64      58.666667  \n",
       "3               none          84             78             71      77.666667  \n",
       "4               none          69             61             61      63.666667  \n",
       "..               ...         ...            ...            ...            ...  \n",
       "995             none          65             71             67      67.666667  \n",
       "996             none          66             61             70      65.666667  \n",
       "997        completed          74             88             87      83.000000  \n",
       "998        completed          67             76             83      75.333333  \n",
       "999             none          42             50             41      44.333333  \n",
       "\n",
       "[1000 rows x 9 columns]"
      ]
     },
     "execution_count": 3,
     "metadata": {},
     "output_type": "execute_result"
    }
   ],
   "source": [
    "df['average_score'] =(df['math score'] + df['writing score'] + df['reading score']) / 3\n",
    "df"
   ]
  },
  {
   "cell_type": "code",
   "execution_count": 4,
   "id": "eade2b69-42c7-4ea5-90bc-fde44fd4dffe",
   "metadata": {},
   "outputs": [
    {
     "data": {
      "text/plain": [
       "(1000, 9)"
      ]
     },
     "execution_count": 4,
     "metadata": {},
     "output_type": "execute_result"
    }
   ],
   "source": [
    "df.shape"
   ]
  },
  {
   "cell_type": "markdown",
   "id": "9632673a-9eea-4d5f-b85c-e4c880a4f455",
   "metadata": {},
   "source": [
    "The dataset has 1000 records"
   ]
  },
  {
   "cell_type": "code",
   "execution_count": 5,
   "id": "c50ffeac-cb25-4469-92a2-e7dc31805f90",
   "metadata": {},
   "outputs": [
    {
     "data": {
      "text/plain": [
       "Index(['gender', 'race/ethnicity', 'parent_education_level', 'lunch',\n",
       "       'test_prep_course', 'math score', 'reading score', 'writing score',\n",
       "       'average_score'],\n",
       "      dtype='object')"
      ]
     },
     "execution_count": 5,
     "metadata": {},
     "output_type": "execute_result"
    }
   ],
   "source": [
    "df.columns"
   ]
  },
  {
   "cell_type": "markdown",
   "id": "e284bdf0",
   "metadata": {},
   "source": [
    "## 1: Average reading score for each race/ethnicity group. \n",
    "\n",
    "Use the `groupby` function to group the information by the column \"race/ethnicity\". Then select the column \"reading\" and use `.mean()` to get the average grade for each group:"
   ]
  },
  {
   "cell_type": "code",
   "execution_count": 6,
   "id": "5d4e35b9",
   "metadata": {},
   "outputs": [
    {
     "data": {
      "text/html": [
       "<div>\n",
       "<style scoped>\n",
       "    .dataframe tbody tr th:only-of-type {\n",
       "        vertical-align: middle;\n",
       "    }\n",
       "\n",
       "    .dataframe tbody tr th {\n",
       "        vertical-align: top;\n",
       "    }\n",
       "\n",
       "    .dataframe thead th {\n",
       "        text-align: right;\n",
       "    }\n",
       "</style>\n",
       "<table border=\"1\" class=\"dataframe\">\n",
       "  <thead>\n",
       "    <tr style=\"text-align: right;\">\n",
       "      <th></th>\n",
       "      <th>reading score</th>\n",
       "    </tr>\n",
       "    <tr>\n",
       "      <th>race/ethnicity</th>\n",
       "      <th></th>\n",
       "    </tr>\n",
       "  </thead>\n",
       "  <tbody>\n",
       "    <tr>\n",
       "      <th>group A</th>\n",
       "      <td>68.304348</td>\n",
       "    </tr>\n",
       "    <tr>\n",
       "      <th>group B</th>\n",
       "      <td>68.613402</td>\n",
       "    </tr>\n",
       "    <tr>\n",
       "      <th>group C</th>\n",
       "      <td>69.665644</td>\n",
       "    </tr>\n",
       "    <tr>\n",
       "      <th>group D</th>\n",
       "      <td>68.840000</td>\n",
       "    </tr>\n",
       "    <tr>\n",
       "      <th>group E</th>\n",
       "      <td>74.614907</td>\n",
       "    </tr>\n",
       "  </tbody>\n",
       "</table>\n",
       "</div>"
      ],
      "text/plain": [
       "                reading score\n",
       "race/ethnicity               \n",
       "group A             68.304348\n",
       "group B             68.613402\n",
       "group C             69.665644\n",
       "group D             68.840000\n",
       "group E             74.614907"
      ]
     },
     "execution_count": 6,
     "metadata": {},
     "output_type": "execute_result"
    }
   ],
   "source": [
    "df.groupby('race/ethnicity')[['reading score']].mean()"
   ]
  },
  {
   "cell_type": "markdown",
   "id": "18c7ecf3-9595-4f1e-b6d4-f5a76b135da7",
   "metadata": {},
   "source": [
    "Students from the race/ethnicity group E have the highest average reading score, while, students from the race/ethnicity group A have the lowest average reading score."
   ]
  },
  {
   "cell_type": "markdown",
   "id": "79f08582",
   "metadata": {},
   "source": [
    "## Data visualization\n",
    "## 2: Average writing score by lunch group and gender\n",
    "\n",
    "Visualizations are very helpful to summarize data and gain insights. A well-crafted chart often conveys information much better than a table.\n",
    "The `seaborn` library is use for this. Also, the `catplot()` function is use on the data to be displayed."
   ]
  },
  {
   "cell_type": "code",
   "execution_count": 7,
   "id": "4f22ecb4",
   "metadata": {},
   "outputs": [
    {
     "data": {
      "image/png": "[encoded data removed]",
      "text/plain": [
       "<Figure size 430.5x360 with 1 Axes>"
      ]
     },
     "metadata": {
      "needs_background": "light"
     },
     "output_type": "display_data"
    }
   ],
   "source": [
    "sns.catplot(x='lunch', y='writing score', hue='gender', data=df, kind='bar').set(title='Lunch VS average writing score');"
   ]
  },
  {
   "cell_type": "markdown",
   "id": "afa81072-a28b-4926-8c88-8e6915119d52",
   "metadata": {},
   "source": [
    "Students with standard lunch happened to have higher average writing score compare to  students with free or reduced lunch. The female students performed better than their male counterparts."
   ]
  },
  {
   "cell_type": "markdown",
   "id": "22854230-c6da-4ea1-8145-4229e9167bb1",
   "metadata": {},
   "source": [
    "## Exploratory Data Analysis\n",
    "## 3: Avarage reading scores\n",
    "Average reading scores for students with/without the test preparation course"
   ]
  },
  {
   "cell_type": "code",
   "execution_count": 8,
   "id": "72558f4b-a93b-477d-900d-fdc8b47e376d",
   "metadata": {},
   "outputs": [
    {
     "data": {
      "text/html": [
       "<div>\n",
       "<style scoped>\n",
       "    .dataframe tbody tr th:only-of-type {\n",
       "        vertical-align: middle;\n",
       "    }\n",
       "\n",
       "    .dataframe tbody tr th {\n",
       "        vertical-align: top;\n",
       "    }\n",
       "\n",
       "    .dataframe thead th {\n",
       "        text-align: right;\n",
       "    }\n",
       "</style>\n",
       "<table border=\"1\" class=\"dataframe\">\n",
       "  <thead>\n",
       "    <tr style=\"text-align: right;\">\n",
       "      <th></th>\n",
       "      <th>reading score</th>\n",
       "    </tr>\n",
       "    <tr>\n",
       "      <th>test_prep_course</th>\n",
       "      <th></th>\n",
       "    </tr>\n",
       "  </thead>\n",
       "  <tbody>\n",
       "    <tr>\n",
       "      <th>completed</th>\n",
       "      <td>75.207547</td>\n",
       "    </tr>\n",
       "    <tr>\n",
       "      <th>none</th>\n",
       "      <td>67.510264</td>\n",
       "    </tr>\n",
       "  </tbody>\n",
       "</table>\n",
       "</div>"
      ],
      "text/plain": [
       "                  reading score\n",
       "test_prep_course               \n",
       "completed             75.207547\n",
       "none                  67.510264"
      ]
     },
     "execution_count": 8,
     "metadata": {},
     "output_type": "execute_result"
    }
   ],
   "source": [
    "#Use the groupby founction\n",
    "df.groupby('test_prep_course')[['reading score']].mean()"
   ]
  },
  {
   "cell_type": "markdown",
   "id": "2adc99a5-6660-4506-afaa-02f96d0e1509",
   "metadata": {},
   "source": [
    "## 4: Avarage scores for different parental levels\n",
    "Average scores for the different parental education levels"
   ]
  },
  {
   "cell_type": "code",
   "execution_count": 9,
   "id": "7665cd47-11e0-465e-871e-573068104e96",
   "metadata": {},
   "outputs": [
    {
     "data": {
      "text/html": [
       "<div>\n",
       "<style scoped>\n",
       "    .dataframe tbody tr th:only-of-type {\n",
       "        vertical-align: middle;\n",
       "    }\n",
       "\n",
       "    .dataframe tbody tr th {\n",
       "        vertical-align: top;\n",
       "    }\n",
       "\n",
       "    .dataframe thead th {\n",
       "        text-align: right;\n",
       "    }\n",
       "</style>\n",
       "<table border=\"1\" class=\"dataframe\">\n",
       "  <thead>\n",
       "    <tr style=\"text-align: right;\">\n",
       "      <th></th>\n",
       "      <th>math score</th>\n",
       "      <th>reading score</th>\n",
       "      <th>writing score</th>\n",
       "    </tr>\n",
       "    <tr>\n",
       "      <th>parent_education_level</th>\n",
       "      <th></th>\n",
       "      <th></th>\n",
       "      <th></th>\n",
       "    </tr>\n",
       "  </thead>\n",
       "  <tbody>\n",
       "    <tr>\n",
       "      <th>associate's degree</th>\n",
       "      <td>68.250000</td>\n",
       "      <td>71.239796</td>\n",
       "      <td>69.831633</td>\n",
       "    </tr>\n",
       "    <tr>\n",
       "      <th>bachelor's degree</th>\n",
       "      <td>71.433071</td>\n",
       "      <td>73.850394</td>\n",
       "      <td>73.748031</td>\n",
       "    </tr>\n",
       "    <tr>\n",
       "      <th>high school</th>\n",
       "      <td>63.851064</td>\n",
       "      <td>66.760638</td>\n",
       "      <td>64.595745</td>\n",
       "    </tr>\n",
       "    <tr>\n",
       "      <th>master's degree</th>\n",
       "      <td>73.652778</td>\n",
       "      <td>77.736111</td>\n",
       "      <td>77.388889</td>\n",
       "    </tr>\n",
       "    <tr>\n",
       "      <th>some college</th>\n",
       "      <td>67.383260</td>\n",
       "      <td>70.629956</td>\n",
       "      <td>69.634361</td>\n",
       "    </tr>\n",
       "    <tr>\n",
       "      <th>some high school</th>\n",
       "      <td>62.589474</td>\n",
       "      <td>65.447368</td>\n",
       "      <td>62.684211</td>\n",
       "    </tr>\n",
       "  </tbody>\n",
       "</table>\n",
       "</div>"
      ],
      "text/plain": [
       "                        math score  reading score  writing score\n",
       "parent_education_level                                          \n",
       "associate's degree       68.250000      71.239796      69.831633\n",
       "bachelor's degree        71.433071      73.850394      73.748031\n",
       "high school              63.851064      66.760638      64.595745\n",
       "master's degree          73.652778      77.736111      77.388889\n",
       "some college             67.383260      70.629956      69.634361\n",
       "some high school         62.589474      65.447368      62.684211"
      ]
     },
     "execution_count": 9,
     "metadata": {},
     "output_type": "execute_result"
    }
   ],
   "source": [
    "df.groupby('parent_education_level') [['math score', 'reading score', 'writing score']].mean()\n",
    "# df.groupby('parent_education_level') [['reading']].mean()"
   ]
  },
  {
   "cell_type": "markdown",
   "id": "fff80739-76e8-4f06-b591-96e6bca0ddce",
   "metadata": {},
   "source": [
    "## 5: Visualize  the average reading scores\n",
    "Visualize  the average reading scores for students with/without the test preparation course"
   ]
  },
  {
   "cell_type": "code",
   "execution_count": 10,
   "id": "2fea98b0-3ed4-4882-9bf5-8e578cac118a",
   "metadata": {},
   "outputs": [
    {
     "data": {
      "image/png": "[encoded data removed]",
      "text/plain": [
       "<Figure size 720x360 with 1 Axes>"
      ]
     },
     "metadata": {
      "needs_background": "light"
     },
     "output_type": "display_data"
    }
   ],
   "source": [
    "# #\n",
    "sns.catplot(x='test_prep_course', y='reading score', data=df, kind='bar', aspect=2).set(title='Test preparation  VS average reading score');\n",
    "\n"
   ]
  },
  {
   "cell_type": "markdown",
   "id": "49bbfe9c-54d0-4324-b0b8-677ded85340b",
   "metadata": {},
   "source": [
    "Studens who completed their test preparation course performed better than those who did not."
   ]
  },
  {
   "cell_type": "markdown",
   "id": "474ef615-42b6-4619-a8fe-b4377899eac9",
   "metadata": {},
   "source": [
    "## 6: Visualise  the average score\n",
    "Visulaise the average score with respect to parental education levels"
   ]
  },
  {
   "cell_type": "code",
   "execution_count": 11,
   "id": "e6bca33a-3abb-47e0-90fc-df88ce7d0c99",
   "metadata": {},
   "outputs": [
    {
     "data": {
      "image/png": "[encoded data removed]",
      "text/plain": [
       "<Figure size 720x360 with 1 Axes>"
      ]
     },
     "metadata": {
      "needs_background": "light"
     },
     "output_type": "display_data"
    }
   ],
   "source": [
    "sns.catplot(x='parent_education_level', y='average_score', data=df, kind='bar', aspect=2).set(title='Parent education level VS average score');\n",
    "\n"
   ]
  },
  {
   "cell_type": "markdown",
   "id": "35457b34-3d44-41d5-aa48-9a0dcec225c0",
   "metadata": {},
   "source": [
    "It can be deduced that the higher the parent education level, the better the student performance."
   ]
  },
  {
   "cell_type": "markdown",
   "id": "2decf8cf-3a98-4faa-b354-4fc1321e5a93",
   "metadata": {},
   "source": [
    "## 7: Compare the average scores for students with/withoout test preparation course for different parent education levels."
   ]
  },
  {
   "cell_type": "code",
   "execution_count": 12,
   "id": "ace79a20-0563-41fb-87fa-8513ded2b6cb",
   "metadata": {},
   "outputs": [
    {
     "data": {
      "text/html": [
       "<div>\n",
       "<style scoped>\n",
       "    .dataframe tbody tr th:only-of-type {\n",
       "        vertical-align: middle;\n",
       "    }\n",
       "\n",
       "    .dataframe tbody tr th {\n",
       "        vertical-align: top;\n",
       "    }\n",
       "\n",
       "    .dataframe thead th {\n",
       "        text-align: right;\n",
       "    }\n",
       "</style>\n",
       "<table border=\"1\" class=\"dataframe\">\n",
       "  <thead>\n",
       "    <tr style=\"text-align: right;\">\n",
       "      <th></th>\n",
       "      <th></th>\n",
       "      <th>math score</th>\n",
       "      <th>reading score</th>\n",
       "      <th>writing score</th>\n",
       "    </tr>\n",
       "    <tr>\n",
       "      <th>parent_education_level</th>\n",
       "      <th>test_prep_course</th>\n",
       "      <th></th>\n",
       "      <th></th>\n",
       "      <th></th>\n",
       "    </tr>\n",
       "  </thead>\n",
       "  <tbody>\n",
       "    <tr>\n",
       "      <th rowspan=\"2\" valign=\"top\">master's degree</th>\n",
       "      <th>completed</th>\n",
       "      <td>74.764706</td>\n",
       "      <td>81.411765</td>\n",
       "      <td>83.588235</td>\n",
       "    </tr>\n",
       "    <tr>\n",
       "      <th>none</th>\n",
       "      <td>73.309091</td>\n",
       "      <td>76.600000</td>\n",
       "      <td>75.472727</td>\n",
       "    </tr>\n",
       "    <tr>\n",
       "      <th>bachelor's degree</th>\n",
       "      <th>completed</th>\n",
       "      <td>72.651163</td>\n",
       "      <td>77.000000</td>\n",
       "      <td>78.116279</td>\n",
       "    </tr>\n",
       "    <tr>\n",
       "      <th>associate's degree</th>\n",
       "      <th>completed</th>\n",
       "      <td>72.028571</td>\n",
       "      <td>76.014286</td>\n",
       "      <td>76.342857</td>\n",
       "    </tr>\n",
       "    <tr>\n",
       "      <th>bachelor's degree</th>\n",
       "      <th>none</th>\n",
       "      <td>70.809524</td>\n",
       "      <td>72.238095</td>\n",
       "      <td>71.511905</td>\n",
       "    </tr>\n",
       "    <tr>\n",
       "      <th>some college</th>\n",
       "      <th>completed</th>\n",
       "      <td>70.562500</td>\n",
       "      <td>76.050000</td>\n",
       "      <td>76.650000</td>\n",
       "    </tr>\n",
       "    <tr>\n",
       "      <th>high school</th>\n",
       "      <th>completed</th>\n",
       "      <td>68.928571</td>\n",
       "      <td>73.285714</td>\n",
       "      <td>74.535714</td>\n",
       "    </tr>\n",
       "    <tr>\n",
       "      <th>some high school</th>\n",
       "      <th>completed</th>\n",
       "      <td>68.653846</td>\n",
       "      <td>71.384615</td>\n",
       "      <td>70.038462</td>\n",
       "    </tr>\n",
       "    <tr>\n",
       "      <th>associate's degree</th>\n",
       "      <th>none</th>\n",
       "      <td>66.150794</td>\n",
       "      <td>68.587302</td>\n",
       "      <td>66.214286</td>\n",
       "    </tr>\n",
       "    <tr>\n",
       "      <th>some college</th>\n",
       "      <th>none</th>\n",
       "      <td>65.653061</td>\n",
       "      <td>67.680272</td>\n",
       "      <td>65.816327</td>\n",
       "    </tr>\n",
       "    <tr>\n",
       "      <th>high school</th>\n",
       "      <th>none</th>\n",
       "      <td>61.696970</td>\n",
       "      <td>63.992424</td>\n",
       "      <td>60.378788</td>\n",
       "    </tr>\n",
       "    <tr>\n",
       "      <th>some high school</th>\n",
       "      <th>none</th>\n",
       "      <td>60.304348</td>\n",
       "      <td>63.210145</td>\n",
       "      <td>59.913043</td>\n",
       "    </tr>\n",
       "  </tbody>\n",
       "</table>\n",
       "</div>"
      ],
      "text/plain": [
       "                                         math score  reading score  \\\n",
       "parent_education_level test_prep_course                              \n",
       "master's degree        completed          74.764706      81.411765   \n",
       "                       none               73.309091      76.600000   \n",
       "bachelor's degree      completed          72.651163      77.000000   \n",
       "associate's degree     completed          72.028571      76.014286   \n",
       "bachelor's degree      none               70.809524      72.238095   \n",
       "some college           completed          70.562500      76.050000   \n",
       "high school            completed          68.928571      73.285714   \n",
       "some high school       completed          68.653846      71.384615   \n",
       "associate's degree     none               66.150794      68.587302   \n",
       "some college           none               65.653061      67.680272   \n",
       "high school            none               61.696970      63.992424   \n",
       "some high school       none               60.304348      63.210145   \n",
       "\n",
       "                                         writing score  \n",
       "parent_education_level test_prep_course                 \n",
       "master's degree        completed             83.588235  \n",
       "                       none                  75.472727  \n",
       "bachelor's degree      completed             78.116279  \n",
       "associate's degree     completed             76.342857  \n",
       "bachelor's degree      none                  71.511905  \n",
       "some college           completed             76.650000  \n",
       "high school            completed             74.535714  \n",
       "some high school       completed             70.038462  \n",
       "associate's degree     none                  66.214286  \n",
       "some college           none                  65.816327  \n",
       "high school            none                  60.378788  \n",
       "some high school       none                  59.913043  "
      ]
     },
     "execution_count": 12,
     "metadata": {},
     "output_type": "execute_result"
    }
   ],
   "source": [
    "df_1 = df.groupby(['parent_education_level', 'test_prep_course'])[['math score', 'reading score', 'writing score']].mean()\n",
    "df_1.sort_values('math score', ascending = False)"
   ]
  },
  {
   "cell_type": "markdown",
   "id": "7b956d49-9f95-4932-b4a5-427ceef6d9f1",
   "metadata": {},
   "source": [
    "## 8: Correlations among the 3 subjects"
   ]
  },
  {
   "cell_type": "code",
   "execution_count": 13,
   "id": "47c43249-d3bf-4532-a743-284f6db8ed3b",
   "metadata": {},
   "outputs": [
    {
     "data": {
      "image/png": "[encoded data removed]",
      "text/plain": [
       "<Figure size 432x288 with 1 Axes>"
      ]
     },
     "metadata": {
      "needs_background": "light"
     },
     "output_type": "display_data"
    }
   ],
   "source": [
    "sns.lineplot(x = 'reading score', y = 'writing score', data = df).set(title='Correlation between reading and writing scores');"
   ]
  },
  {
   "cell_type": "code",
   "execution_count": 14,
   "id": "ff175263-7c61-4fa8-9efa-dd1fe83143fd",
   "metadata": {},
   "outputs": [
    {
     "data": {
      "image/png": "[encoded data removed]",
      "text/plain": [
       "<Figure size 432x288 with 1 Axes>"
      ]
     },
     "metadata": {
      "needs_background": "light"
     },
     "output_type": "display_data"
    }
   ],
   "source": [
    "sns.lineplot(x = 'math score', y = 'reading score', data = df).set(title='Correlation between math score and reading scores');"
   ]
  },
  {
   "cell_type": "code",
   "execution_count": 15,
   "id": "154db977-35f2-4595-bd4f-a8676b68bbb0",
   "metadata": {},
   "outputs": [
    {
     "data": {
      "image/png": "[encoded data removed]",
      "text/plain": [
       "<Figure size 432x288 with 1 Axes>"
      ]
     },
     "metadata": {
      "needs_background": "light"
     },
     "output_type": "display_data"
    }
   ],
   "source": [
    "sns.lineplot(x = 'math score', y = 'writing score', data = df).set(title='Correlation between math score and writing scores');"
   ]
  },
  {
   "cell_type": "markdown",
   "id": "90e36e6d-7245-4980-abb5-783c1f946cca",
   "metadata": {},
   "source": [
    "The 3 graphs above shows that scores follow a linear correlation with each othe."
   ]
  },
  {
   "cell_type": "code",
   "execution_count": 16,
   "id": "7b077a4f-1018-42f1-8caa-eaa0e57e4b8a",
   "metadata": {},
   "outputs": [
    {
     "data": {
      "text/html": [
       "<div>\n",
       "<style scoped>\n",
       "    .dataframe tbody tr th:only-of-type {\n",
       "        vertical-align: middle;\n",
       "    }\n",
       "\n",
       "    .dataframe tbody tr th {\n",
       "        vertical-align: top;\n",
       "    }\n",
       "\n",
       "    .dataframe thead th {\n",
       "        text-align: right;\n",
       "    }\n",
       "</style>\n",
       "<table border=\"1\" class=\"dataframe\">\n",
       "  <thead>\n",
       "    <tr style=\"text-align: right;\">\n",
       "      <th></th>\n",
       "      <th>gender</th>\n",
       "      <th>race/ethnicity</th>\n",
       "      <th>parent_education_level</th>\n",
       "      <th>lunch</th>\n",
       "      <th>test_prep_course</th>\n",
       "      <th>math score</th>\n",
       "      <th>reading score</th>\n",
       "      <th>writing score</th>\n",
       "      <th>average_score</th>\n",
       "    </tr>\n",
       "  </thead>\n",
       "  <tbody>\n",
       "    <tr>\n",
       "      <th>244</th>\n",
       "      <td>female</td>\n",
       "      <td>group E</td>\n",
       "      <td>associate's degree</td>\n",
       "      <td>standard</td>\n",
       "      <td>none</td>\n",
       "      <td>100</td>\n",
       "      <td>100</td>\n",
       "      <td>100</td>\n",
       "      <td>100.0</td>\n",
       "    </tr>\n",
       "    <tr>\n",
       "      <th>947</th>\n",
       "      <td>female</td>\n",
       "      <td>group E</td>\n",
       "      <td>associate's degree</td>\n",
       "      <td>standard</td>\n",
       "      <td>completed</td>\n",
       "      <td>100</td>\n",
       "      <td>100</td>\n",
       "      <td>100</td>\n",
       "      <td>100.0</td>\n",
       "    </tr>\n",
       "  </tbody>\n",
       "</table>\n",
       "</div>"
      ],
      "text/plain": [
       "     gender race/ethnicity parent_education_level     lunch test_prep_course  \\\n",
       "244  female        group E     associate's degree  standard             none   \n",
       "947  female        group E     associate's degree  standard        completed   \n",
       "\n",
       "     math score  reading score  writing score  average_score  \n",
       "244         100            100            100          100.0  \n",
       "947         100            100            100          100.0  "
      ]
     },
     "execution_count": 16,
     "metadata": {},
     "output_type": "execute_result"
    }
   ],
   "source": [
    "df[df['average_score'] == 100]"
   ]
  },
  {
   "cell_type": "markdown",
   "id": "faff2879-29d8-4c3c-b296-3aa857a471ce",
   "metadata": {},
   "source": [
    "Only 3 students recorded 100 makrs in all the 3 subjects, among which 2 are females. The 3 of them also belong to the same race/ethnicity, group E"
   ]
  },
  {
   "cell_type": "markdown",
   "id": "0ec5ecfb-2207-441e-9ca1-2b3d87843b4a",
   "metadata": {},
   "source": [
    "## KEY INSIGHTS\n",
    "1: Deduction could be made that, students whose parents have higher educational level tends to perform better than their fellow counterparts with parents of lower educational level.<br>\n",
    "2: Students who performs better in one subject, tends to also perform better in other subjects.<br>\n",
    "3: Students who completed the test preparation course have higher marks than the ones who did not, perhaps, the test preparation have significant impact on overall student performance.<br>\n",
    "4: Only three students (1 male and 2 females) recorded 100% marks in all the 3 subjects. And they all belong to the same race/ethnicity, group E. Also, out of the three students, only one student (who happened to be a male) has completed the test preparation course. They all have their lunch to be in the standard category."
   ]
  },
  {
   "cell_type": "markdown",
   "id": "caac7db5-9cae-45fd-a2ff-03decb45ec35",
   "metadata": {},
   "source": [
    "## CONCLUSION \n",
    "This analysis has shown that, there are different factors responsible for student performance in exams, these factors ranging from; parental level of education, socio-economic factor, preparation for test among others. However, there are some exceptional cases where students with a low parental level of education scoring 100% marks across the 3 subjects. Similarly, some students did not completed their test preparation courses and they scored full marks in all their subjects. Perhaps, these set of students may have their own unique ways for test preparations.\n",
    "Some students with Socio-economic disadvantage also appears to performed very well, perhaps these categories of students did not allow economic challenges to sabotage their efforts.<br>\n",
    "Generally, there are many factors responsible for students’ performances and their level of effects differs.<br>\n",
    "**NB** There are other factors that can be considered as well, but they were not captured in the dataset. These factors includes type of facilities in school, methods of teaching, access to internet, peer group, hours of study, home lesson, teacher's qualifications and many more. These factors could have significant impact on student performance."
   ]
  }
 ],
 "metadata": {
  "kernelspec": {
   "display_name": "Python 3 (ipykernel)",
   "language": "python",
   "name": "python3"
  },
  "language_info": {
   "codemirror_mode": {
    "name": "ipython",
    "version": 3
   },
   "file_extension": ".py",
   "mimetype": "text/x-python",
   "name": "python",
   "nbconvert_exporter": "python",
   "pygments_lexer": "ipython3",
   "version": "3.9.7"
  }
 },
 "nbformat": 4,
 "nbformat_minor": 5
}
